{
  "nbformat": 4,
  "nbformat_minor": 0,
  "metadata": {
    "colab": {
      "provenance": []
    },
    "kernelspec": {
      "name": "python3",
      "display_name": "Python 3"
    },
    "language_info": {
      "name": "python"
    }
  },
  "cells": [
    {
      "cell_type": "code",
      "source": [
        "import nltk\n",
        "nltk.download('punkt')\n",
        "nltk.download('stopwords')\n"
      ],
      "metadata": {
        "colab": {
          "base_uri": "https://localhost:8080/"
        },
        "id": "kWa7DtZ0FniU",
        "outputId": "82ad796f-fed1-4229-dca0-361dd0082891"
      },
      "execution_count": null,
      "outputs": [
        {
          "output_type": "stream",
          "name": "stderr",
          "text": [
            "[nltk_data] Downloading package punkt to /root/nltk_data...\n",
            "[nltk_data]   Unzipping tokenizers/punkt.zip.\n",
            "[nltk_data] Downloading package stopwords to /root/nltk_data...\n",
            "[nltk_data]   Unzipping corpora/stopwords.zip.\n"
          ]
        },
        {
          "output_type": "execute_result",
          "data": {
            "text/plain": [
              "True"
            ]
          },
          "metadata": {},
          "execution_count": 1
        }
      ]
    },
    {
      "cell_type": "code",
      "execution_count": null,
      "metadata": {
        "colab": {
          "base_uri": "https://localhost:8080/"
        },
        "id": "VNPlkpojFQJd",
        "outputId": "f650b800-8642-4e3a-c0a8-e25eefe86534"
      },
      "outputs": [
        {
          "output_type": "stream",
          "name": "stdout",
          "text": [
            "This is link  0  kw list \n",
            "\n",
            "[('festival', 37), ('waste', 36), ('land', 21), ('team', 18), ('sound', 17), ('green', 13), ('items', 13), ('000', 13), ('local', 12), ('event', 12), ('project', 12), ('plastic', 11), ('amount', 11), ('year', 10), ('practices', 9), ('clean', 9), ('people', 9), ('reusable', 9), ('bags', 9), ('environmental', 8), ('management', 8), ('makes', 8), ('sustainable', 7), ('example', 7), ('make', 7), ('system', 7), ('first', 7), ('2019', 7), ('recycling', 7), ('water', 7), ('also', 7), ('day', 7), ('music', 6), ('let', 6), ('keep', 6), ('new', 6), ('actions', 6), ('use', 6), ('materials', 6), ('used', 6), ('area', 6), ('per', 6), ('person', 6), ('36', 6), ('approximate', 6), ('industry', 5), ('plan', 5), ('festivals', 5), ('festivalgoers', 5), ('government', 5), ('place', 5), ('estonia', 5), ('volunteers', 5), ('3000', 5), ('plates', 5), ('cups', 5), ('straws', 5), ('prevented', 5), ('drinks', 5), ('bottles', 5), ('different', 5), ('cigarette', 5), ('beverage', 5), ('containers', 5), ('trash', 5), ('good', 4), ('foundation', 4), ('organisers', 4), ('sustainability', 4), ('great', 4), ('next', 4), ('step', 4), ('country', 4), ('towards', 4), ('many', 4), ('strategy', 4), ('efforts', 4), ('best', 4), ('put', 4), ('order', 4), ('together', 4), ('etc', 4), ('main', 4), ('cutlery', 4), ('eu', 4), ('end', 4), ('natural', 4), ('estonian', 4), ('goes', 4), ('camping', 4), ('reuse', 4), ('collaborates', 4), ('paint', 4), ('world', 4), ('sorting', 4), ('produced', 4), ('organisation', 4), ('taken', 4), ('change', 4), ('global', 3)]\n",
            "This is link  1  kw list \n",
            "\n",
            "[('music', 97), ('2024', 86), ('april', 51), ('industry', 44), ('promote', 40), ('use', 30), ('get', 26), ('february', 23), ('2023', 22), ('sustainable', 21), ('develop', 21), ('19', 18), ('make', 16), ('radio', 16), ('budget', 15), ('groover', 15), ('youtube', 14), ('production', 14), ('live', 13), ('record', 13), ('labels', 13), ('success', 13), ('playlists', 12), ('play', 12), ('important', 12), ('stories', 12), ('environmental', 12), ('identity', 11), ('march', 11), ('best', 11), ('marketing', 11), ('artist', 11), ('inspiration', 11), ('creation', 11), ('sustainability', 11), ('grants', 10), ('contact', 10), ('press', 10), ('fanbase', 10), ('visual', 10), ('grow', 10), ('streams', 10), ('prepare', 10), ('release', 10), ('strategy', 10), ('signing', 10), ('partners', 10), ('artists', 10), ('22', 10), ('energy', 10), ('reduce', 10), ('also', 10), ('12', 9), ('streaming', 9), ('materials', 9), ('media', 8), ('concerts', 8), ('project', 8), ('impact', 8), ('practices', 8), ('way', 7), ('waste', 7), ('management', 6), ('28', 6), ('november', 6), ('10', 6), ('discovered', 6), ('spotify', 6), ('globally', 6), ('18', 6), ('many', 6), ('social', 6), ('fans', 6), ('fair', 6), ('11', 5), ('30', 5), ('musician', 5), ('16', 5), ('outlets', 5), ('december', 5), ('september', 5), ('platform', 5), ('8', 5), ('using', 5), ('june', 5), ('could', 5), ('7', 5), ('1', 5), ('playlist', 5), ('footprint', 5), ('promoting', 5), ('efficiency', 5), ('renewable', 5), ('reducing', 5), ('carbon', 5), ('events', 5), ('encourage', 5), ('curators', 5), ('2', 4), ('guide', 4)]\n",
            "This is link  2  kw list \n",
            "\n",
            "[('sound', 25), ('today', 14), ('find', 14), ('pain', 13), ('meditation', 12), ('psychology', 11), ('therapist', 11), ('help', 10), ('new', 8), ('wei', 7), ('one', 7), ('brainwaves', 7), ('healing', 6), ('treatment', 6), ('get', 6), ('marlynn', 6), ('experience', 6), ('brain', 6), ('anxiety', 5), ('therapy', 5), ('center', 5), ('singing', 5), ('bowls', 5), ('frequencies', 5), ('back', 5), ('support', 4), ('united', 4), ('states', 4), ('personality', 4), ('relationships', 4), ('2024', 4), ('emotional', 4), ('intelligence', 4), ('reduce', 4), ('share', 4), ('atoui', 4), ('bells', 4), ('different', 4), ('music', 4), ('physical', 4), ('found', 4), ('benefits', 4), ('people', 4), ('occur', 4), ('waves', 4), ('associated', 4), ('therapists', 3), ('international', 3), ('australia', 3), ('austria', 3), ('belgium', 3), ('canada', 3), ('denmark', 3), ('hong', 3), ('kong', 3), ('ireland', 3), ('zealand', 3), ('singapore', 3), ('south', 3), ('africa', 3), ('sweden', 3), ('switzerland', 3), ('mental', 3), ('health', 3), ('depression', 3), ('low', 3), ('family', 3), ('child', 3), ('need', 3), ('group', 3), ('magazine', 3), ('understanding', 3), ('like', 3), ('improve', 3), ('could', 3), ('world', 3), ('subscribe', 3), ('essential', 3), ('reads', 3), ('search', 3), ('within', 3), ('york', 3), ('rotunda', 3), ('instrument', 3), ('tactile', 3), ('ancient', 3), ('used', 3), ('tibetan', 3), ('form', 3), ('deep', 3), ('sleep', 3), ('activity', 3), ('beta', 3), ('state', 3), ('theta', 3), ('advertisement', 3), ('power', 2), ('main', 2), ('login', 2), ('sign', 2)]\n",
            "This is link  3  kw list \n",
            "\n",
            "[('music', 24), ('game', 24), ('gaming', 22), ('soundtracks', 14), ('video', 11), ('developers', 10), ('create', 9), ('musicians', 9), ('gameplay', 7), ('entertainment', 6), ('2024', 6), ('experience', 6), ('mood', 6), ('april', 5), ('5', 5), ('players', 5), ('often', 5), ('overall', 4), ('setting', 4), ('immersive', 4), ('industry', 4), ('collaborations', 4), ('read', 4), ('experiences', 3), ('petcare', 3), ('role', 3), ('impact', 3), ('also', 3), ('narrative', 3), ('making', 3), ('collaborate', 3), ('composers', 3), ('enhances', 3), ('dynamic', 3), ('closely', 3), ('innovation', 3), ('evolution', 3), ('together', 3), ('composing', 3), ('virtual', 3), ('evolved', 3), ('creating', 3), ('games', 3), ('retro', 3), ('ambient', 3), ('film', 3), ('artificial', 3), ('intelligence', 3), ('investigating', 2), ('intersection', 2), ('interactive', 2), ('cricket', 2), ('power', 2), ('set', 2), ('emotions', 2), ('sense', 2), ('immersion', 2), ('intense', 2), ('battle', 2), ('scenes', 2), ('heartwarming', 2), ('moments', 2), ('right', 2), ('depth', 2), ('storyline', 2), ('background', 2), ('scores', 2), ('complements', 2), ('visuals', 2), ('engaging', 2), ('memorable', 2), ('talented', 2), ('resonate', 2), ('long', 2), ('helps', 2), ('since', 2), ('early', 2), ('days', 2), ('simple', 2), ('repetitive', 2), ('tunes', 2), ('integral', 2), ('part', 2), ('advanced', 2), ('incorporating', 2), ('musical', 2), ('elements', 2), ('soundscapes', 2), ('work', 2), ('modern', 2), ('rival', 2), ('production', 2), ('even', 2), ('creativity', 2), ('worlds', 2), ('partnerships', 2), ('bring', 2), ('working', 2), ('enhance', 2), ('player', 2)]\n",
            "This is link  4  kw list \n",
            "\n",
            "[('music', 120), ('technology', 31), ('artists', 28), ('new', 25), ('digital', 18), ('production', 15), ('also', 13), ('future', 12), ('electronic', 12), ('musical', 11), ('industry', 11), ('become', 11), ('technologies', 10), ('creativity', 10), ('ai', 10), ('challenges', 10), ('platforms', 10), ('streaming', 9), ('offering', 9), ('immersive', 9), ('experience', 9), ('ways', 8), ('reality', 8), ('media', 8), ('fusion', 7), ('landscape', 7), ('distribution', 7), ('genres', 7), ('create', 7), ('world', 7), ('like', 7), ('learning', 7), ('fans', 7), ('continues', 6), ('creating', 6), ('possibilities', 6), ('live', 6), ('producers', 6), ('advancements', 6), ('traditional', 6), ('machine', 6), ('potential', 6), ('social', 6), ('ethical', 6), ('exploring', 5), ('frontiers', 5), ('share', 5), ('advent', 5), ('technological', 5), ('era', 5), ('rise', 5), ('tools', 5), ('innovation', 5), ('creative', 5), ('questions', 5), ('experiences', 5), ('revolution', 5), ('audio', 5), ('opening', 5), ('could', 5), ('even', 5), ('human', 5), ('fair', 5), ('vr', 5), ('fan', 5), ('ensuring', 5), ('content', 4), ('creation', 4), ('boundaries', 4), ('audiences', 4), ('navigate', 4), ('listeners', 4), ('redefine', 4), ('offer', 4), ('shift', 4), ('accessibility', 4), ('integration', 4), ('elements', 4), ('sounds', 4), ('impact', 4), ('beyond', 4), ('role', 4), ('videos', 4), ('way', 4), ('interact', 4), ('build', 4), ('compensation', 4), ('ar', 4), ('exciting', 4), ('set', 4), ('considerations', 4), ('blog', 3), ('posts', 3), ('consumption', 3), ('advancement', 3), ('myriad', 3), ('engage', 3), ('artificial', 3), ('intelligence', 3), ('virtual', 3)]\n",
            "This is link  5  kw list \n",
            "\n",
            "[('audio', 46), ('spatial', 35), ('sound', 24), ('music', 21), ('experience', 16), ('technology', 13), ('immersive', 10), ('new', 9), ('listening', 8), ('industry', 7), ('artists', 7), ('listeners', 6), ('stereo', 6), ('future', 6), ('headphones', 5), ('auditory', 5), ('revolutionizing', 4), ('set', 4), ('offering', 4), ('space', 4), ('create', 4), ('age', 3), ('novecore', 3), ('content', 3), ('significant', 3), ('creating', 3), ('beyond', 3), ('traditional', 3), ('way', 3), ('potential', 3), ('us', 3), ('explore', 3), ('enhance', 3), ('hearing', 3), ('technologies', 3), ('sounds', 3), ('standard', 3), ('lies', 3), ('sense', 3), ('ability', 3), ('recording', 3), ('platforms', 3), ('challenges', 3), ('production', 3), ('become', 3), ('adoption', 3), ('fan', 3), ('emergence', 2), ('blog', 2), ('posts', 2), ('journey', 2), ('worldwide', 2), ('today', 2), ('redefine', 2), ('soundscape', 2), ('goes', 2), ('well', 2), ('listener', 2), ('directions', 2), ('essence', 2), ('world', 2), ('mimic', 2), ('natural', 2), ('left', 2), ('right', 2), ('sphere', 2), ('depth', 2), ('direction', 2), ('bringing', 2), ('brains', 2), ('coming', 2), ('like', 2), ('middle', 2), ('action', 2), ('illusion', 2), ('complex', 2), ('techniques', 2), ('ears', 2), ('intended', 2), ('movies', 2), ('play', 2), ('games', 2), ('binaural', 2), ('capturing', 2), ('human', 2), ('ear', 2), ('hrtf', 2), ('software', 2), ('used', 2), ('role', 2), ('delivering', 2), ('sonic', 2), ('art', 2), ('producers', 2), ('engineers', 2), ('means', 2), ('engaging', 2), ('albums', 2), ('concerts', 2), ('transforming', 2)]\n",
            "This is link  6  kw list \n",
            "\n",
            "[('data', 132), ('big', 68), ('music', 65), ('industry', 49), ('professionals', 28), ('marketing', 24), ('trends', 22), ('artists', 21), ('streaming', 19), ('strategies', 18), ('identify', 17), ('artist', 17), ('social', 15), ('media', 15), ('insights', 15), ('analyzing', 15), ('analytics', 15), ('preferences', 14), ('platforms', 13), ('make', 13), ('sales', 13), ('development', 13), ('engagement', 12), ('potential', 11), ('analysis', 10), ('information', 10), ('decisions', 10), ('consumer', 10), ('hit', 9), ('various', 9), ('predict', 9), ('emerging', 9), ('optimize', 9), ('recommendations', 9), ('next', 8), ('amounts', 8), ('genres', 8), ('specific', 8), ('sources', 8), ('behavior', 8), ('audience', 8), ('targeted', 8), ('role', 7), ('vast', 7), ('songs', 7), ('provides', 7), ('also', 7), ('user', 7), ('new', 7), ('fan', 7), ('campaigns', 7), ('live', 7), ('generated', 6), ('labels', 6), ('r', 6), ('understanding', 6), ('effectively', 6), ('advanced', 6), ('algorithms', 6), ('audiences', 6), ('success', 6), ('approach', 6), ('leverage', 6), ('personalized', 6), ('privacy', 6), ('historical', 6), ('predicting', 5), ('online', 5), ('volume', 5), ('users', 5), ('valuable', 5), ('record', 5), ('tailor', 5), ('patterns', 5), ('future', 5), ('analyze', 5), ('figures', 5), ('power', 5), ('demand', 5), ('helps', 5), ('digital', 4), ('stores', 4), ('way', 4), ('sheer', 4), ('used', 4), ('consumption', 4), ('ability', 4), ('spotify', 4), ('playlists', 4), ('create', 4), ('informed', 4), ('even', 4), ('track', 4), ('enabling', 4), ('efforts', 4), ('different', 4), ('listening', 4), ('habits', 4), ('experience', 4), ('ticket', 4)]\n",
            "This is link  7  kw list \n",
            "\n",
            "[('ai', 23), ('music', 17), ('ohio', 17), ('antonuccio', 12), ('industry', 10), ('artificial', 9), ('intelligence', 9), ('beatles', 9), ('song', 9), ('news', 8), ('university', 8), ('creative', 7), ('songs', 7), ('students', 6), ('media', 6), ('artists', 6), ('search', 5), ('athens', 5), ('last', 5), ('said', 5), ('content', 4), ('info', 4), ('apply', 4), ('new', 4), ('created', 4), ('released', 4), ('economy', 3), ('links', 3), ('locations', 3), ('visit', 3), ('campus', 3), ('campuses', 3), ('online', 3), ('connect', 3), ('give', 3), ('contact', 3), ('use', 3), ('year', 3), ('like', 3), ('recording', 3), ('lennon', 3), ('2023', 3), ('school', 3), ('arts', 3), ('studies', 3), ('believes', 3), ('beginning', 3), ('part', 3), ('art', 3), ('platforms', 3), ('track', 3), ('much', 3), ('used', 3), ('voice', 3), ('played', 3), ('technology', 3), ('major', 3), ('transforming', 2), ('faculty', 2), ('future', 2), ('current', 2), ('quick', 2), ('log', 2), ('catmail', 2), ('blackboard', 2), ('canvas', 2), ('myohio', 2), ('student', 2), ('center', 2), ('library', 2), ('regional', 2), ('directory', 2), ('research', 2), ('impact', 2), ('athletics', 2), ('life', 2), ('1', 2), ('oh', 2), ('45701', 2), ('image', 2), ('industries', 2), ('already', 2), ('band', 2), ('using', 2), ('demo', 2), ('john', 2), ('two', 2), ('director', 2), ('associate', 2), ('professor', 2), ('josh', 2), ('tool', 2), ('set', 2), ('change', 2), ('things', 2), ('classes', 2), ('production', 2), ('provide', 2), ('tools', 2), ('generative', 2)]\n",
            "This is link  8  kw list \n",
            "\n",
            "[('music', 71), ('nfts', 55), ('nft', 39), ('artists', 28), ('chainlink', 22), ('smart', 14), ('create', 14), ('fans', 14), ('data', 11), ('contract', 11), ('use', 11), ('new', 11), ('digital', 10), ('one', 10), ('artist', 10), ('help', 9), ('contracts', 8), ('platforms', 8), ('industry', 7), ('web3', 7), ('way', 7), ('blockchain', 7), ('div', 7), ('price', 7), ('services', 6), ('events', 6), ('art', 6), ('record', 6), ('potential', 6), ('unique', 6), ('enable', 6), ('important', 6), ('streaming', 6), ('platform', 6), ('community', 5), ('defi', 5), ('asset', 5), ('markets', 5), ('revenue', 5), ('creation', 5), ('many', 5), ('ways', 5), ('early', 5), ('decentralized', 4), ('earn', 4), ('latest', 4), ('linked', 4), ('individual', 4), ('generative', 4), ('income', 4), ('based', 4), ('work', 4), ('technology', 4), ('people', 4), ('relationship', 4), ('also', 4), ('benefit', 4), ('musicians', 4), ('sell', 4), ('streams', 4), ('mint', 4), ('could', 4), ('sale', 4), ('receive', 4), ('reshape', 3), ('developer', 3), ('support', 3), ('power', 3), ('computation', 3), ('random', 3), ('ensure', 3), ('fair', 3), ('tokenization', 3), ('financial', 3), ('gaming', 3), ('access', 3), ('live', 3), ('leading', 3), ('current', 3), ('distinct', 3), ('issued', 3), ('song', 3), ('ep', 3), ('album', 3), ('video', 3), ('tokens', 3), ('however', 3), ('ownership', 3), ('earnings', 3), ('large', 3), ('labels', 3), ('result', 3), ('rely', 3), ('content', 3), ('exclusive', 3), ('fan', 3), ('business', 3), ('may', 3), ('marketplaces', 3), ('ability', 3)]\n",
            "This is link  9  kw list \n",
            "\n",
            "[('music', 48), ('could', 31), ('vr', 27), ('experience', 23), ('ar', 22), ('technology', 16), ('wharton', 14), ('concert', 14), ('virtual', 11), ('streaming', 11), ('reality', 9), ('live', 9), ('also', 9), ('services', 8), ('would', 8), ('neuroscience', 7), ('audience', 7), ('social', 7), ('user', 7), ('users', 7), ('apps', 7), ('mobile', 6), ('us', 6), ('mediated', 6), ('additional', 6), ('rock', 6), ('predictive', 6), ('coding', 6), ('events', 5), ('immersive', 5), ('technologies', 5), ('take', 5), ('media', 5), ('spotify', 5), ('provide', 5), ('popular', 5), ('artist', 5), ('brain', 5), ('front', 5), ('row', 5), ('app', 5), ('change', 4), ('future', 4), ('initiative', 4), ('science', 4), ('consumers', 4), ('like', 4), ('time', 4), ('festival', 4), ('danielsen', 4), ('artists', 4), ('allow', 4), ('band', 4), ('notes', 4), ('way', 4), ('model', 4), ('effect', 4), ('world', 4), ('allowing', 4), ('tickets', 4), ('effects', 4), ('stage', 4), ('device', 4), ('show', 4), ('use', 3), ('content', 3), ('menu', 3), ('faculty', 3), ('online', 3), ('education', 3), ('news', 3), ('contact', 3), ('designs', 3), ('based', 3), ('real', 3), ('integrate', 3), ('well', 3), ('enhance', 3), ('around', 3), ('direct', 3), ('2019', 3), ('increase', 3), ('apple', 3), ('known', 3), ('certain', 3), ('allows', 3), ('surroundings', 3), ('players', 3), ('play', 3), ('similar', 3), ('addition', 3), ('using', 3), ('creation', 3), ('example', 3), ('videos', 3), ('one', 3), ('million', 3), ('views', 3), ('presented', 3), ('fans', 3)]\n"
          ]
        }
      ],
      "source": [
        "import requests\n",
        "from bs4 import BeautifulSoup\n",
        "from nltk.tokenize import word_tokenize\n",
        "from nltk.corpus import stopwords\n",
        "from collections import Counter\n",
        "import string\n",
        "\n",
        "paras = []\n",
        "\n",
        "def extract_keywords(url):\n",
        "    # Get the webpage content\n",
        "    response = requests.get(url)\n",
        "    if response.status_code != 200:\n",
        "        print(\"Failed to fetch the webpage\")\n",
        "        return\n",
        "\n",
        "    # Parse the HTML content\n",
        "    soup = BeautifulSoup(response.text, 'html.parser')\n",
        "\n",
        "    # Extract text from HTML\n",
        "    text = soup.get_text()\n",
        "    val=text\n",
        "    #print(val)\n",
        "    # val_br = val.split(\". \")\n",
        "    # for line in val_br:\n",
        "    #   print(line)\n",
        "    paras.append(val)\n",
        "\n",
        "    # Tokenize the text\n",
        "    words = word_tokenize(text.lower())\n",
        "\n",
        "    # Remove stopwords and punctuation\n",
        "    stop_words = set(stopwords.words('english'))\n",
        "    words = [word for word in words if word.isalnum() and word not in stop_words]\n",
        "\n",
        "    # Count word frequencies\n",
        "    word_freq = Counter(words)\n",
        "\n",
        "    # Get the most common words (you can adjust the number)\n",
        "    top_keywords = word_freq.most_common(100)\n",
        "\n",
        "    return top_keywords\n",
        "urls = [\n",
        "    'https://letsdoitfoundation.org/2019/05/20/sustainable-music-industry-an-example-of-good-practices/',\n",
        "    'https://blog.groover.co/en/tips/make-the-music-industry-more-sustainable-en/#:~:text=In%20addition%20to%20energy%20consumption,recycle%20and%20compost%20their%20waste.',\n",
        "    'https://www.psychologytoday.com/intl/blog/urban-survival/201907/the-healing-power-of-sound-as-meditation',\n",
        "    'https://petcare.com.in/investigating-the-intersection-of-music-and-gaming-from-soundtracks-to-interactive-experiences/#:~:text=By%20working%20closely%20together%2C%20musicians,and%20mood%20of%20the%20game.',\n",
        "    'https://blog.novecore.com/the-fusion-of-technology-and-music-exploring-new-frontiers/',\n",
        "    'https://blog.novecore.com/the-emergence-of-spatial-audio-revolutionizing-the-listening-experience-in-the-age-of-headphones/',\n",
        "    'https://blog.novecore.com/the-role-of-big-data-in-the-music-industry-predicting-the-next-big-hit/',\n",
        "    'https://www.ohio.edu/news/2024/04/how-ai-transforming-creative-economy-and-music-industry',\n",
        "    'https://chain.link/education-hub/music-nfts#:~:text=Music%20NFTs%20enable%20artists%20to,ways%20of%20interaction%20and%20ownership.',\n",
        "    'https://neuro.wharton.upenn.edu/community/winss_scholar_article4/#:~:text=The%20potential%20for%20VR%20to,experience%20from%20their%20living%20room'\n",
        "]\n",
        "\n",
        "\n",
        "# Example usage\n",
        "#website_url = \"https://time.com/6340294/ai-transform-music-2023/\"\n",
        "keywords_bysite = []\n",
        "\n",
        "for url in urls:\n",
        "  keywords = extract_keywords(url)\n",
        "  if keywords is not None:\n",
        "    keywords_bysite.append(keywords)\n",
        "\n",
        "for i in range(len(keywords_bysite)):\n",
        "  print(\"This is link \",i,\" kw list \\n\")\n",
        "  print(keywords_bysite[i])\n",
        "\n",
        "#print(\"Top keywords:\", keywords)\n"
      ]
    },
    {
      "cell_type": "code",
      "source": [],
      "metadata": {
        "id": "GkmMoAIKnUBE"
      },
      "execution_count": null,
      "outputs": []
    },
    {
      "cell_type": "code",
      "source": [
        "print(type(keywords_bysite[0]))\n"
      ],
      "metadata": {
        "colab": {
          "base_uri": "https://localhost:8080/"
        },
        "id": "B72Lc6jVcxWd",
        "outputId": "d1623692-7d83-48d8-d357-5eae5645891f"
      },
      "execution_count": null,
      "outputs": [
        {
          "output_type": "stream",
          "name": "stdout",
          "text": [
            "<class 'list'>\n"
          ]
        }
      ]
    },
    {
      "cell_type": "code",
      "source": [
        "print(len(paras))\n",
        "print(keywords_bysite)"
      ],
      "metadata": {
        "colab": {
          "base_uri": "https://localhost:8080/"
        },
        "id": "FHQjo7YlhkxR",
        "outputId": "fe5e92d3-b3ff-45e8-cc69-8cbf96dbe614"
      },
      "execution_count": null,
      "outputs": [
        {
          "output_type": "stream",
          "name": "stdout",
          "text": [
            "10\n",
            "[[('festival', 37), ('waste', 36), ('land', 21), ('team', 18), ('sound', 17), ('green', 13), ('items', 13), ('000', 13), ('local', 12), ('event', 12), ('project', 12), ('plastic', 11), ('amount', 11), ('year', 10), ('practices', 9), ('clean', 9), ('people', 9), ('reusable', 9), ('bags', 9), ('environmental', 8), ('management', 8), ('makes', 8), ('sustainable', 7), ('example', 7), ('make', 7), ('system', 7), ('first', 7), ('2019', 7), ('recycling', 7), ('water', 7), ('also', 7), ('day', 7), ('music', 6), ('let', 6), ('keep', 6), ('new', 6), ('actions', 6), ('use', 6), ('materials', 6), ('used', 6), ('area', 6), ('per', 6), ('person', 6), ('36', 6), ('approximate', 6), ('industry', 5), ('plan', 5), ('festivals', 5), ('festivalgoers', 5), ('government', 5), ('place', 5), ('estonia', 5), ('volunteers', 5), ('3000', 5), ('plates', 5), ('cups', 5), ('straws', 5), ('prevented', 5), ('drinks', 5), ('bottles', 5), ('different', 5), ('cigarette', 5), ('beverage', 5), ('containers', 5), ('trash', 5), ('good', 4), ('foundation', 4), ('organisers', 4), ('sustainability', 4), ('great', 4), ('next', 4), ('step', 4), ('country', 4), ('towards', 4), ('many', 4), ('strategy', 4), ('efforts', 4), ('best', 4), ('put', 4), ('order', 4), ('together', 4), ('etc', 4), ('main', 4), ('cutlery', 4), ('eu', 4), ('end', 4), ('natural', 4), ('estonian', 4), ('goes', 4), ('camping', 4), ('reuse', 4), ('collaborates', 4), ('paint', 4), ('world', 4), ('sorting', 4), ('produced', 4), ('organisation', 4), ('taken', 4), ('change', 4), ('global', 3)], [('music', 97), ('2024', 86), ('april', 51), ('industry', 44), ('promote', 40), ('use', 30), ('get', 26), ('february', 23), ('2023', 22), ('sustainable', 21), ('develop', 21), ('19', 18), ('make', 16), ('radio', 16), ('budget', 15), ('groover', 15), ('youtube', 14), ('production', 14), ('live', 13), ('record', 13), ('labels', 13), ('success', 13), ('playlists', 12), ('play', 12), ('important', 12), ('stories', 12), ('environmental', 12), ('identity', 11), ('march', 11), ('best', 11), ('marketing', 11), ('artist', 11), ('inspiration', 11), ('creation', 11), ('sustainability', 11), ('grants', 10), ('contact', 10), ('press', 10), ('fanbase', 10), ('visual', 10), ('grow', 10), ('streams', 10), ('prepare', 10), ('release', 10), ('strategy', 10), ('signing', 10), ('partners', 10), ('artists', 10), ('22', 10), ('energy', 10), ('reduce', 10), ('also', 10), ('12', 9), ('streaming', 9), ('materials', 9), ('media', 8), ('concerts', 8), ('project', 8), ('impact', 8), ('practices', 8), ('way', 7), ('waste', 7), ('management', 6), ('28', 6), ('november', 6), ('10', 6), ('discovered', 6), ('spotify', 6), ('globally', 6), ('18', 6), ('many', 6), ('social', 6), ('fans', 6), ('fair', 6), ('11', 5), ('30', 5), ('musician', 5), ('16', 5), ('outlets', 5), ('december', 5), ('september', 5), ('platform', 5), ('8', 5), ('using', 5), ('june', 5), ('could', 5), ('7', 5), ('1', 5), ('playlist', 5), ('footprint', 5), ('promoting', 5), ('efficiency', 5), ('renewable', 5), ('reducing', 5), ('carbon', 5), ('events', 5), ('encourage', 5), ('curators', 5), ('2', 4), ('guide', 4)], [('sound', 25), ('today', 14), ('find', 14), ('pain', 13), ('meditation', 12), ('psychology', 11), ('therapist', 11), ('help', 10), ('new', 8), ('wei', 7), ('one', 7), ('brainwaves', 7), ('healing', 6), ('treatment', 6), ('get', 6), ('marlynn', 6), ('experience', 6), ('brain', 6), ('anxiety', 5), ('therapy', 5), ('center', 5), ('singing', 5), ('bowls', 5), ('frequencies', 5), ('back', 5), ('support', 4), ('united', 4), ('states', 4), ('personality', 4), ('relationships', 4), ('2024', 4), ('emotional', 4), ('intelligence', 4), ('reduce', 4), ('share', 4), ('atoui', 4), ('bells', 4), ('different', 4), ('music', 4), ('physical', 4), ('found', 4), ('benefits', 4), ('people', 4), ('occur', 4), ('waves', 4), ('associated', 4), ('therapists', 3), ('international', 3), ('australia', 3), ('austria', 3), ('belgium', 3), ('canada', 3), ('denmark', 3), ('hong', 3), ('kong', 3), ('ireland', 3), ('zealand', 3), ('singapore', 3), ('south', 3), ('africa', 3), ('sweden', 3), ('switzerland', 3), ('mental', 3), ('health', 3), ('depression', 3), ('low', 3), ('family', 3), ('child', 3), ('need', 3), ('group', 3), ('magazine', 3), ('understanding', 3), ('like', 3), ('improve', 3), ('could', 3), ('world', 3), ('subscribe', 3), ('essential', 3), ('reads', 3), ('search', 3), ('within', 3), ('york', 3), ('rotunda', 3), ('instrument', 3), ('tactile', 3), ('ancient', 3), ('used', 3), ('tibetan', 3), ('form', 3), ('deep', 3), ('sleep', 3), ('activity', 3), ('beta', 3), ('state', 3), ('theta', 3), ('advertisement', 3), ('power', 2), ('main', 2), ('login', 2), ('sign', 2)], [('music', 24), ('game', 24), ('gaming', 22), ('soundtracks', 14), ('video', 11), ('developers', 10), ('create', 9), ('musicians', 9), ('gameplay', 7), ('entertainment', 6), ('2024', 6), ('experience', 6), ('mood', 6), ('april', 5), ('5', 5), ('players', 5), ('often', 5), ('overall', 4), ('setting', 4), ('immersive', 4), ('industry', 4), ('collaborations', 4), ('read', 4), ('experiences', 3), ('petcare', 3), ('role', 3), ('impact', 3), ('also', 3), ('narrative', 3), ('making', 3), ('collaborate', 3), ('composers', 3), ('enhances', 3), ('dynamic', 3), ('closely', 3), ('innovation', 3), ('evolution', 3), ('together', 3), ('composing', 3), ('virtual', 3), ('evolved', 3), ('creating', 3), ('games', 3), ('retro', 3), ('ambient', 3), ('film', 3), ('artificial', 3), ('intelligence', 3), ('investigating', 2), ('intersection', 2), ('interactive', 2), ('cricket', 2), ('power', 2), ('set', 2), ('emotions', 2), ('sense', 2), ('immersion', 2), ('intense', 2), ('battle', 2), ('scenes', 2), ('heartwarming', 2), ('moments', 2), ('right', 2), ('depth', 2), ('storyline', 2), ('background', 2), ('scores', 2), ('complements', 2), ('visuals', 2), ('engaging', 2), ('memorable', 2), ('talented', 2), ('resonate', 2), ('long', 2), ('helps', 2), ('since', 2), ('early', 2), ('days', 2), ('simple', 2), ('repetitive', 2), ('tunes', 2), ('integral', 2), ('part', 2), ('advanced', 2), ('incorporating', 2), ('musical', 2), ('elements', 2), ('soundscapes', 2), ('work', 2), ('modern', 2), ('rival', 2), ('production', 2), ('even', 2), ('creativity', 2), ('worlds', 2), ('partnerships', 2), ('bring', 2), ('working', 2), ('enhance', 2), ('player', 2)], [('music', 120), ('technology', 31), ('artists', 28), ('new', 25), ('digital', 18), ('production', 15), ('also', 13), ('future', 12), ('electronic', 12), ('musical', 11), ('industry', 11), ('become', 11), ('technologies', 10), ('creativity', 10), ('ai', 10), ('challenges', 10), ('platforms', 10), ('streaming', 9), ('offering', 9), ('immersive', 9), ('experience', 9), ('ways', 8), ('reality', 8), ('media', 8), ('fusion', 7), ('landscape', 7), ('distribution', 7), ('genres', 7), ('create', 7), ('world', 7), ('like', 7), ('learning', 7), ('fans', 7), ('continues', 6), ('creating', 6), ('possibilities', 6), ('live', 6), ('producers', 6), ('advancements', 6), ('traditional', 6), ('machine', 6), ('potential', 6), ('social', 6), ('ethical', 6), ('exploring', 5), ('frontiers', 5), ('share', 5), ('advent', 5), ('technological', 5), ('era', 5), ('rise', 5), ('tools', 5), ('innovation', 5), ('creative', 5), ('questions', 5), ('experiences', 5), ('revolution', 5), ('audio', 5), ('opening', 5), ('could', 5), ('even', 5), ('human', 5), ('fair', 5), ('vr', 5), ('fan', 5), ('ensuring', 5), ('content', 4), ('creation', 4), ('boundaries', 4), ('audiences', 4), ('navigate', 4), ('listeners', 4), ('redefine', 4), ('offer', 4), ('shift', 4), ('accessibility', 4), ('integration', 4), ('elements', 4), ('sounds', 4), ('impact', 4), ('beyond', 4), ('role', 4), ('videos', 4), ('way', 4), ('interact', 4), ('build', 4), ('compensation', 4), ('ar', 4), ('exciting', 4), ('set', 4), ('considerations', 4), ('blog', 3), ('posts', 3), ('consumption', 3), ('advancement', 3), ('myriad', 3), ('engage', 3), ('artificial', 3), ('intelligence', 3), ('virtual', 3)], [('audio', 46), ('spatial', 35), ('sound', 24), ('music', 21), ('experience', 16), ('technology', 13), ('immersive', 10), ('new', 9), ('listening', 8), ('industry', 7), ('artists', 7), ('listeners', 6), ('stereo', 6), ('future', 6), ('headphones', 5), ('auditory', 5), ('revolutionizing', 4), ('set', 4), ('offering', 4), ('space', 4), ('create', 4), ('age', 3), ('novecore', 3), ('content', 3), ('significant', 3), ('creating', 3), ('beyond', 3), ('traditional', 3), ('way', 3), ('potential', 3), ('us', 3), ('explore', 3), ('enhance', 3), ('hearing', 3), ('technologies', 3), ('sounds', 3), ('standard', 3), ('lies', 3), ('sense', 3), ('ability', 3), ('recording', 3), ('platforms', 3), ('challenges', 3), ('production', 3), ('become', 3), ('adoption', 3), ('fan', 3), ('emergence', 2), ('blog', 2), ('posts', 2), ('journey', 2), ('worldwide', 2), ('today', 2), ('redefine', 2), ('soundscape', 2), ('goes', 2), ('well', 2), ('listener', 2), ('directions', 2), ('essence', 2), ('world', 2), ('mimic', 2), ('natural', 2), ('left', 2), ('right', 2), ('sphere', 2), ('depth', 2), ('direction', 2), ('bringing', 2), ('brains', 2), ('coming', 2), ('like', 2), ('middle', 2), ('action', 2), ('illusion', 2), ('complex', 2), ('techniques', 2), ('ears', 2), ('intended', 2), ('movies', 2), ('play', 2), ('games', 2), ('binaural', 2), ('capturing', 2), ('human', 2), ('ear', 2), ('hrtf', 2), ('software', 2), ('used', 2), ('role', 2), ('delivering', 2), ('sonic', 2), ('art', 2), ('producers', 2), ('engineers', 2), ('means', 2), ('engaging', 2), ('albums', 2), ('concerts', 2), ('transforming', 2)], [('data', 132), ('big', 68), ('music', 65), ('industry', 49), ('professionals', 28), ('marketing', 24), ('trends', 22), ('artists', 21), ('streaming', 19), ('strategies', 18), ('identify', 17), ('artist', 17), ('social', 15), ('media', 15), ('insights', 15), ('analyzing', 15), ('analytics', 15), ('preferences', 14), ('platforms', 13), ('make', 13), ('sales', 13), ('development', 13), ('engagement', 12), ('potential', 11), ('analysis', 10), ('information', 10), ('decisions', 10), ('consumer', 10), ('hit', 9), ('various', 9), ('predict', 9), ('emerging', 9), ('optimize', 9), ('recommendations', 9), ('next', 8), ('amounts', 8), ('genres', 8), ('specific', 8), ('sources', 8), ('behavior', 8), ('audience', 8), ('targeted', 8), ('role', 7), ('vast', 7), ('songs', 7), ('provides', 7), ('also', 7), ('user', 7), ('new', 7), ('fan', 7), ('campaigns', 7), ('live', 7), ('generated', 6), ('labels', 6), ('r', 6), ('understanding', 6), ('effectively', 6), ('advanced', 6), ('algorithms', 6), ('audiences', 6), ('success', 6), ('approach', 6), ('leverage', 6), ('personalized', 6), ('privacy', 6), ('historical', 6), ('predicting', 5), ('online', 5), ('volume', 5), ('users', 5), ('valuable', 5), ('record', 5), ('tailor', 5), ('patterns', 5), ('future', 5), ('analyze', 5), ('figures', 5), ('power', 5), ('demand', 5), ('helps', 5), ('digital', 4), ('stores', 4), ('way', 4), ('sheer', 4), ('used', 4), ('consumption', 4), ('ability', 4), ('spotify', 4), ('playlists', 4), ('create', 4), ('informed', 4), ('even', 4), ('track', 4), ('enabling', 4), ('efforts', 4), ('different', 4), ('listening', 4), ('habits', 4), ('experience', 4), ('ticket', 4)], [('ai', 23), ('music', 17), ('ohio', 17), ('antonuccio', 12), ('industry', 10), ('artificial', 9), ('intelligence', 9), ('beatles', 9), ('song', 9), ('news', 8), ('university', 8), ('creative', 7), ('songs', 7), ('students', 6), ('media', 6), ('artists', 6), ('search', 5), ('athens', 5), ('last', 5), ('said', 5), ('content', 4), ('info', 4), ('apply', 4), ('new', 4), ('created', 4), ('released', 4), ('economy', 3), ('links', 3), ('locations', 3), ('visit', 3), ('campus', 3), ('campuses', 3), ('online', 3), ('connect', 3), ('give', 3), ('contact', 3), ('use', 3), ('year', 3), ('like', 3), ('recording', 3), ('lennon', 3), ('2023', 3), ('school', 3), ('arts', 3), ('studies', 3), ('believes', 3), ('beginning', 3), ('part', 3), ('art', 3), ('platforms', 3), ('track', 3), ('much', 3), ('used', 3), ('voice', 3), ('played', 3), ('technology', 3), ('major', 3), ('transforming', 2), ('faculty', 2), ('future', 2), ('current', 2), ('quick', 2), ('log', 2), ('catmail', 2), ('blackboard', 2), ('canvas', 2), ('myohio', 2), ('student', 2), ('center', 2), ('library', 2), ('regional', 2), ('directory', 2), ('research', 2), ('impact', 2), ('athletics', 2), ('life', 2), ('1', 2), ('oh', 2), ('45701', 2), ('image', 2), ('industries', 2), ('already', 2), ('band', 2), ('using', 2), ('demo', 2), ('john', 2), ('two', 2), ('director', 2), ('associate', 2), ('professor', 2), ('josh', 2), ('tool', 2), ('set', 2), ('change', 2), ('things', 2), ('classes', 2), ('production', 2), ('provide', 2), ('tools', 2), ('generative', 2)], [('music', 71), ('nfts', 55), ('nft', 39), ('artists', 28), ('chainlink', 22), ('smart', 14), ('create', 14), ('fans', 14), ('data', 11), ('contract', 11), ('use', 11), ('new', 11), ('digital', 10), ('one', 10), ('artist', 10), ('help', 9), ('contracts', 8), ('platforms', 8), ('industry', 7), ('web3', 7), ('way', 7), ('blockchain', 7), ('div', 7), ('price', 7), ('services', 6), ('events', 6), ('art', 6), ('record', 6), ('potential', 6), ('unique', 6), ('enable', 6), ('important', 6), ('streaming', 6), ('platform', 6), ('community', 5), ('defi', 5), ('asset', 5), ('markets', 5), ('revenue', 5), ('creation', 5), ('many', 5), ('ways', 5), ('early', 5), ('decentralized', 4), ('earn', 4), ('latest', 4), ('linked', 4), ('individual', 4), ('generative', 4), ('income', 4), ('based', 4), ('work', 4), ('technology', 4), ('people', 4), ('relationship', 4), ('also', 4), ('benefit', 4), ('musicians', 4), ('sell', 4), ('streams', 4), ('mint', 4), ('could', 4), ('sale', 4), ('receive', 4), ('reshape', 3), ('developer', 3), ('support', 3), ('power', 3), ('computation', 3), ('random', 3), ('ensure', 3), ('fair', 3), ('tokenization', 3), ('financial', 3), ('gaming', 3), ('access', 3), ('live', 3), ('leading', 3), ('current', 3), ('distinct', 3), ('issued', 3), ('song', 3), ('ep', 3), ('album', 3), ('video', 3), ('tokens', 3), ('however', 3), ('ownership', 3), ('earnings', 3), ('large', 3), ('labels', 3), ('result', 3), ('rely', 3), ('content', 3), ('exclusive', 3), ('fan', 3), ('business', 3), ('may', 3), ('marketplaces', 3), ('ability', 3)], [('music', 48), ('could', 31), ('vr', 27), ('experience', 23), ('ar', 22), ('technology', 16), ('wharton', 14), ('concert', 14), ('virtual', 11), ('streaming', 11), ('reality', 9), ('live', 9), ('also', 9), ('services', 8), ('would', 8), ('neuroscience', 7), ('audience', 7), ('social', 7), ('user', 7), ('users', 7), ('apps', 7), ('mobile', 6), ('us', 6), ('mediated', 6), ('additional', 6), ('rock', 6), ('predictive', 6), ('coding', 6), ('events', 5), ('immersive', 5), ('technologies', 5), ('take', 5), ('media', 5), ('spotify', 5), ('provide', 5), ('popular', 5), ('artist', 5), ('brain', 5), ('front', 5), ('row', 5), ('app', 5), ('change', 4), ('future', 4), ('initiative', 4), ('science', 4), ('consumers', 4), ('like', 4), ('time', 4), ('festival', 4), ('danielsen', 4), ('artists', 4), ('allow', 4), ('band', 4), ('notes', 4), ('way', 4), ('model', 4), ('effect', 4), ('world', 4), ('allowing', 4), ('tickets', 4), ('effects', 4), ('stage', 4), ('device', 4), ('show', 4), ('use', 3), ('content', 3), ('menu', 3), ('faculty', 3), ('online', 3), ('education', 3), ('news', 3), ('contact', 3), ('designs', 3), ('based', 3), ('real', 3), ('integrate', 3), ('well', 3), ('enhance', 3), ('around', 3), ('direct', 3), ('2019', 3), ('increase', 3), ('apple', 3), ('known', 3), ('certain', 3), ('allows', 3), ('surroundings', 3), ('players', 3), ('play', 3), ('similar', 3), ('addition', 3), ('using', 3), ('creation', 3), ('example', 3), ('videos', 3), ('one', 3), ('million', 3), ('views', 3), ('presented', 3), ('fans', 3)]]\n"
          ]
        }
      ]
    },
    {
      "cell_type": "code",
      "source": [
        "filtered_list = [x for x in keywords_bysite if x is not None]\n",
        "print(len(keywords_bysite))\n",
        "print(len(paras))\n",
        "\n",
        "third_last_element = keywords_bysite[-3]\n",
        "# for word in keywords_bysite:\n",
        "#   print(word)\n",
        "\n"
      ],
      "metadata": {
        "colab": {
          "base_uri": "https://localhost:8080/"
        },
        "id": "86Zzv1PniPtO",
        "outputId": "e886cf58-4e1d-4c3b-8324-e308b47fa412"
      },
      "execution_count": null,
      "outputs": [
        {
          "output_type": "stream",
          "name": "stdout",
          "text": [
            "10\n",
            "10\n"
          ]
        }
      ]
    },
    {
      "cell_type": "code",
      "source": [
        "import csv\n",
        "from google.colab import files\n",
        "\n",
        "def create_csv_file(filename, column1, column2):\n",
        "    # Ensure the lengths of lists are the same\n",
        "    if len(column1) != len(column2):\n",
        "        print(\"Error: Lengths of lists do not match.\")\n",
        "        return\n",
        "\n",
        "    # Open CSV file in write mode\n",
        "    with open(filename, mode='w', newline='') as file:\n",
        "        writer = csv.writer(file)\n",
        "\n",
        "        # Write header\n",
        "        writer.writerow(['Serial Number', 'Column 1', 'Column 2'])\n",
        "\n",
        "        # Write data rows\n",
        "        for index, (item1, item2) in enumerate(zip(column1, column2), start=1):\n",
        "            writer.writerow([index, item1, item2])\n",
        "\n",
        "        files.download(filename)\n",
        "\n",
        "\n",
        "filename = 'output.csv'\n",
        "create_csv_file(filename,paras,keywords_bysite)\n",
        "\n",
        "print(f\"CSV file '{filename}' has been created successfully.\")"
      ],
      "metadata": {
        "colab": {
          "base_uri": "https://localhost:8080/",
          "height": 35
        },
        "id": "aeEJZ4h9evDX",
        "outputId": "0cdfdf3c-262c-4029-a151-dc5b54dd7b84"
      },
      "execution_count": null,
      "outputs": [
        {
          "output_type": "display_data",
          "data": {
            "text/plain": [
              "<IPython.core.display.Javascript object>"
            ],
            "application/javascript": [
              "\n",
              "    async function download(id, filename, size) {\n",
              "      if (!google.colab.kernel.accessAllowed) {\n",
              "        return;\n",
              "      }\n",
              "      const div = document.createElement('div');\n",
              "      const label = document.createElement('label');\n",
              "      label.textContent = `Downloading \"${filename}\": `;\n",
              "      div.appendChild(label);\n",
              "      const progress = document.createElement('progress');\n",
              "      progress.max = size;\n",
              "      div.appendChild(progress);\n",
              "      document.body.appendChild(div);\n",
              "\n",
              "      const buffers = [];\n",
              "      let downloaded = 0;\n",
              "\n",
              "      const channel = await google.colab.kernel.comms.open(id);\n",
              "      // Send a message to notify the kernel that we're ready.\n",
              "      channel.send({})\n",
              "\n",
              "      for await (const message of channel.messages) {\n",
              "        // Send a message to notify the kernel that we're ready.\n",
              "        channel.send({})\n",
              "        if (message.buffers) {\n",
              "          for (const buffer of message.buffers) {\n",
              "            buffers.push(buffer);\n",
              "            downloaded += buffer.byteLength;\n",
              "            progress.value = downloaded;\n",
              "          }\n",
              "        }\n",
              "      }\n",
              "      const blob = new Blob(buffers, {type: 'application/binary'});\n",
              "      const a = document.createElement('a');\n",
              "      a.href = window.URL.createObjectURL(blob);\n",
              "      a.download = filename;\n",
              "      div.appendChild(a);\n",
              "      a.click();\n",
              "      div.remove();\n",
              "    }\n",
              "  "
            ]
          },
          "metadata": {}
        },
        {
          "output_type": "display_data",
          "data": {
            "text/plain": [
              "<IPython.core.display.Javascript object>"
            ],
            "application/javascript": [
              "download(\"download_fdef53ac-b7c7-4279-91b9-378d55fb3d97\", \"output.csv\", 166620)"
            ]
          },
          "metadata": {}
        },
        {
          "output_type": "stream",
          "name": "stdout",
          "text": [
            "CSV file 'output.csv' has been created successfully.\n"
          ]
        }
      ]
    },
    {
      "cell_type": "code",
      "source": [
        "import os\n",
        "\n",
        "def find_file_path(filename):\n",
        "    # Get the current working directory\n",
        "    current_directory = os.getcwd()\n",
        "\n",
        "    # Search for the file recursively starting from the current directory\n",
        "    for root, dirs, files in os.walk(current_directory):\n",
        "        if filename in files:\n",
        "            # Construct the full path to the file\n",
        "            file_path = os.path.join(root, filename)\n",
        "            return file_path\n",
        "\n",
        "    # If the file is not found\n",
        "    return None\n",
        "\n",
        "# Example usage\n",
        "filename = \"output.csv\"\n",
        "file_path = find_file_path(filename)\n",
        "\n",
        "if file_path:\n",
        "    print(f\"The path to '{filename}' is: {file_path}\")\n",
        "else:\n",
        "    print(f\"File '{filename}' not found.\")\n"
      ],
      "metadata": {
        "colab": {
          "base_uri": "https://localhost:8080/"
        },
        "id": "4lFczLkHhGp5",
        "outputId": "55dd4df5-1894-4c30-8156-821d75b41c65"
      },
      "execution_count": null,
      "outputs": [
        {
          "output_type": "stream",
          "name": "stdout",
          "text": [
            "File 'output.csv' not found.\n"
          ]
        }
      ]
    }
  ]
}