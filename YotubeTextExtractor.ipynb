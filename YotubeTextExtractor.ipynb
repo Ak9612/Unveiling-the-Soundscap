{
  "nbformat": 4,
  "nbformat_minor": 0,
  "metadata": {
    "colab": {
      "provenance": []
    },
    "kernelspec": {
      "name": "python3",
      "display_name": "Python 3"
    },
    "language_info": {
      "name": "python"
    }
  },
  "cells": [
    {
      "cell_type": "code",
      "source": [
        "pip install youtube_transcript_api"
      ],
      "metadata": {
        "id": "4oEj8SVXfLv5",
        "colab": {
          "base_uri": "https://localhost:8080/"
        },
        "outputId": "75d46ed1-873d-410b-d95e-ad207b2c8b06"
      },
      "execution_count": null,
      "outputs": [
        {
          "output_type": "stream",
          "name": "stdout",
          "text": [
            "Collecting youtube_transcript_api\n",
            "  Downloading youtube_transcript_api-0.6.2-py3-none-any.whl (24 kB)\n",
            "Requirement already satisfied: requests in /usr/local/lib/python3.10/dist-packages (from youtube_transcript_api) (2.31.0)\n",
            "Requirement already satisfied: charset-normalizer<4,>=2 in /usr/local/lib/python3.10/dist-packages (from requests->youtube_transcript_api) (3.3.2)\n",
            "Requirement already satisfied: idna<4,>=2.5 in /usr/local/lib/python3.10/dist-packages (from requests->youtube_transcript_api) (3.7)\n",
            "Requirement already satisfied: urllib3<3,>=1.21.1 in /usr/local/lib/python3.10/dist-packages (from requests->youtube_transcript_api) (2.0.7)\n",
            "Requirement already satisfied: certifi>=2017.4.17 in /usr/local/lib/python3.10/dist-packages (from requests->youtube_transcript_api) (2024.2.2)\n",
            "Installing collected packages: youtube_transcript_api\n",
            "Successfully installed youtube_transcript_api-0.6.2\n"
          ]
        }
      ]
    },
    {
      "cell_type": "code",
      "source": [
        "import csv\n",
        "from google.colab import files"
      ],
      "metadata": {
        "id": "IBCiRM2BgPz5"
      },
      "execution_count": null,
      "outputs": []
    },
    {
      "cell_type": "code",
      "source": [
        "from youtube_transcript_api import YouTubeTranscriptApi\n",
        "import csv\n",
        "\n",
        "def youtube_video_to_text(url):\n",
        "    try:\n",
        "        video_id = url.split(\"=\")[1]  # Extract video ID from URL\n",
        "        transcript = YouTubeTranscriptApi.get_transcript(video_id)\n",
        "        text = \"\"\n",
        "        for line in transcript:\n",
        "            text += line['text'] + \" \"\n",
        "        return text\n",
        "    except Exception as e:\n",
        "        print(\"Error:\", str(e))\n",
        "        return None\n",
        "\n",
        "# List of URLs to process\n",
        "urls = [\"https://www.youtube.com/watch?v=lVlJxdAzWGs\",\n",
        "        \"https://www.youtube.com/watch?v=lZLql2yhhoM\",\n",
        "        \"https://www.youtube.com/watch?v=NOB-JOxSpiw\",\n",
        "        \"https://www.youtube.com/watch?v=xm3IH4hYCR0\",\n",
        "        \"https://www.youtube.com/watch?v=5RMJKgRTTqY\",\n",
        "        \"https://www.youtube.com/watch?v=hY8d-m0iR0A\",\n",
        "        \"https://www.youtube.com/watch?v=9HoCSH6PW38\",\n",
        "        \"https://www.youtube.com/watch?v=rRt17N8ipDw\",\n",
        "        \"https://www.youtube.com/watch?v=WZ0mowlas3I\",\n",
        "        \"https://www.youtube.com/watch?v=HBtGurhQC64\"\n",
        "]\n",
        "\n",
        "\n",
        "# Create and open the CSV file\n",
        "with open('tedtalks.csv', 'w', newline='', encoding='utf-8') as csvfile:\n",
        "    # Create a CSV writer object\n",
        "    csvwriter = csv.writer(csvfile)\n",
        "\n",
        "    # Write the header row\n",
        "    csvwriter.writerow(['Video ID', 'Transcript'])\n",
        "\n",
        "    # Loop through each URL and retrieve transcript\n",
        "    for idx, url in enumerate(urls, start=1):\n",
        "        print(f\"Processing URL {idx}/{len(urls)}\")\n",
        "        text = youtube_video_to_text(url)\n",
        "        if text:\n",
        "            # Extract video ID from URL\n",
        "            video_id = url.split(\"=\")[-1]\n",
        "            # Write video ID and transcript to CSV file\n",
        "            csvwriter.writerow([video_id, text])\n",
        "            print(f\"Transcript for video ID {video_id} saved.\")\n",
        "        else:\n",
        "            print(\"Failed to retrieve transcript for URL:\", url)\n",
        "\n",
        "print(\"All transcripts saved to tedtalks.csv\")"
      ],
      "metadata": {
        "id": "pTvNPhrsnWKe",
        "colab": {
          "base_uri": "https://localhost:8080/"
        },
        "outputId": "afb6189d-018d-4e1e-812d-4afe9f5d3d6e"
      },
      "execution_count": null,
      "outputs": [
        {
          "output_type": "stream",
          "name": "stdout",
          "text": [
            "Processing URL 1/10\n",
            "Transcript for video ID lVlJxdAzWGs saved.\n",
            "Processing URL 2/10\n",
            "Transcript for video ID lZLql2yhhoM saved.\n",
            "Processing URL 3/10\n",
            "Transcript for video ID NOB-JOxSpiw saved.\n",
            "Processing URL 4/10\n",
            "Transcript for video ID xm3IH4hYCR0 saved.\n",
            "Processing URL 5/10\n",
            "Transcript for video ID 5RMJKgRTTqY saved.\n",
            "Processing URL 6/10\n",
            "Transcript for video ID hY8d-m0iR0A saved.\n",
            "Processing URL 7/10\n",
            "Transcript for video ID 9HoCSH6PW38 saved.\n",
            "Processing URL 8/10\n",
            "Transcript for video ID rRt17N8ipDw saved.\n",
            "Processing URL 9/10\n",
            "Transcript for video ID WZ0mowlas3I saved.\n",
            "Processing URL 10/10\n",
            "Transcript for video ID HBtGurhQC64 saved.\n",
            "All transcripts saved to tedtalks.csv\n"
          ]
        }
      ]
    }
  ]
}